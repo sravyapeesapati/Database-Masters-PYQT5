{
 "cells": [
  {
   "cell_type": "code",
   "execution_count": null,
   "id": "c40e40ff",
   "metadata": {},
   "outputs": [],
   "source": [
    "from pandas import DataFrame\n",
    "from DATA225utils import make_connection, dataframe_query"
   ]
  },
  {
   "cell_type": "code",
   "execution_count": null,
   "id": "d1f21a45",
   "metadata": {},
   "outputs": [],
   "source": [
    "conn_warehouse = make_connection(config_file = 'centaurus_wh.ini')\n",
    "cursor_warehouse = conn_warehouse.cursor()"
   ]
  },
  {
   "cell_type": "code",
   "execution_count": null,
   "id": "23925605",
   "metadata": {},
   "outputs": [],
   "source": [
    "cursor_warehouse.execute('DROP TABLE IF EXISTS LoanSanction')\n",
    "cursor_warehouse.execute('DROP TABLE IF EXISTS HouseOwnership')\n",
    "cursor_warehouse.execute('DROP TABLE IF EXISTS DimOwner')\n",
    "cursor_warehouse.execute('DROP TABLE IF EXISTS DimLoan')\n",
    "cursor_warehouse.execute('DROP TABLE IF EXISTS DimOceanProximity')\n",
    "cursor_warehouse.execute('DROP TABLE IF EXISTS DimAddress')\n",
    "cursor_warehouse.execute('DROP TABLE IF EXISTS DimHousing')"
   ]
  },
  {
   "cell_type": "code",
   "execution_count": null,
   "id": "4d0ba8d6",
   "metadata": {},
   "outputs": [],
   "source": [
    "sql = ( \"\"\"\n",
    "        CREATE TABLE DimOwner\n",
    "        (\n",
    "          owner_id VARCHAR(20) NOT NULL,\n",
    "          owner_income INT NOT NULL,\n",
    "          owner_name VARCHAR(50) NOT NULL,\n",
    "          mail VARCHAR(64) NOT NULL,\n",
    "          PRIMARY KEY (owner_id)\n",
    "        );\n",
    "                \"\"\"\n",
    "      )\n",
    "\n",
    "cursor_warehouse.execute(sql)"
   ]
  },
  {
   "cell_type": "code",
   "execution_count": null,
   "id": "5b7652c3",
   "metadata": {},
   "outputs": [],
   "source": [
    "sql = ( \"\"\"\n",
    "        CREATE TABLE DimLoan\n",
    "        (\n",
    "          loan_id INT NOT NULL,\n",
    "          loan_amount INT NOT NULL,\n",
    "          month VARCHAR(15) NOT NULL,\n",
    "          year INT NOT NULL,\n",
    "          day INT NOT NULL,\n",
    "          PRIMARY KEY (loan_id)\n",
    "        );\n",
    "        \"\"\"\n",
    "      )\n",
    "\n",
    "cursor_warehouse.execute(sql)"
   ]
  },
  {
   "cell_type": "code",
   "execution_count": null,
   "id": "d4973976",
   "metadata": {},
   "outputs": [],
   "source": [
    "sql = ( \"\"\"\n",
    "        CREATE TABLE DimOceanProximity\n",
    "        (\n",
    "          proximity_id INT NOT NULL,\n",
    "          ocean_proximity_value VARCHAR(25) NOT NULL,\n",
    "          PRIMARY KEY (proximity_id)\n",
    "        );\n",
    "        \"\"\"\n",
    "      )\n",
    "\n",
    "cursor_warehouse.execute(sql)"
   ]
  },
  {
   "cell_type": "code",
   "execution_count": null,
   "id": "4b028aba",
   "metadata": {},
   "outputs": [],
   "source": [
    "sql = ( \"\"\"\n",
    "        CREATE TABLE DimAddress\n",
    "        (\n",
    "          add_id VARCHAR(32) NOT NULL,\n",
    "          latitude FLOAT NOT NULL,\n",
    "          longitude FLOAT NOT NULL,\n",
    "          state VARCHAR(32) NOT NULL,\n",
    "          city VARCHAR(32) NOT NULL,\n",
    "          country VARCHAR(50) NOT NULL,\n",
    "          postal_code INT NOT NULL,\n",
    "          PRIMARY KEY (add_id)\n",
    "        );\n",
    "        \"\"\"\n",
    "      )\n",
    "\n",
    "cursor_warehouse.execute(sql)"
   ]
  },
  {
   "cell_type": "code",
   "execution_count": null,
   "id": "735ab8a7",
   "metadata": {},
   "outputs": [],
   "source": [
    "sql = ( \"\"\"\n",
    "        CREATE TABLE DimHousing\n",
    "        (\n",
    "          housing_id INT NOT NULL,\n",
    "          housing_median_age INT NOT NULL,\n",
    "          total_rooms INT NOT NULL,\n",
    "          total_bedrooms INT NOT NULL,\n",
    "          population INT NOT NULL,\n",
    "          median_house_value INT NOT NULL,\n",
    "          households INT NOT NULL,\n",
    "          PRIMARY KEY (housing_id)\n",
    "        );\n",
    "        \"\"\"\n",
    "      )\n",
    "\n",
    "cursor_warehouse.execute(sql)"
   ]
  },
  {
   "cell_type": "code",
   "execution_count": null,
   "id": "bb1b80c9",
   "metadata": {},
   "outputs": [],
   "source": [
    "sql = ( \"\"\"\n",
    "        CREATE TABLE LoanSanction\n",
    "        (\n",
    "          sanction VARCHAR(5) NOT NULL,\n",
    "          owner_id VARCHAR(20) NOT NULL,\n",
    "          loan_id INT NOT NULL,\n",
    "          FOREIGN KEY (owner_id) REFERENCES DimOwner(owner_id),\n",
    "          FOREIGN KEY (loan_id) REFERENCES DimLoan(loan_id)\n",
    "        );\n",
    "        \"\"\"\n",
    "      )\n",
    "\n",
    "cursor_warehouse.execute(sql)"
   ]
  },
  {
   "cell_type": "code",
   "execution_count": null,
   "id": "0e7bfc16",
   "metadata": {},
   "outputs": [],
   "source": [
    "sql = ( \"\"\"\n",
    "        CREATE TABLE HouseOwnership\n",
    "        (\n",
    "          proximity_id INT NOT NULL,\n",
    "          owner_id VARCHAR(20) NOT NULL,\n",
    "          housing_id INT NOT NULL,\n",
    "          add_id VARCHAR(32) NOT NULL,\n",
    "          FOREIGN KEY (proximity_id) REFERENCES DimOceanProximity(proximity_id),\n",
    "          FOREIGN KEY (owner_id) REFERENCES DimOwner(owner_id),\n",
    "          FOREIGN KEY (housing_id) REFERENCES DimHousing(housing_id),\n",
    "          FOREIGN KEY (add_id) REFERENCES DimAddress(add_id)\n",
    "        );\n",
    "        \"\"\"\n",
    "      )\n",
    "\n",
    "cursor_warehouse.execute(sql)"
   ]
  },
  {
   "cell_type": "code",
   "execution_count": null,
   "id": "1fd979a4",
   "metadata": {},
   "outputs": [],
   "source": [
    "import pandas as pd"
   ]
  },
  {
   "cell_type": "code",
   "execution_count": null,
   "id": "8a801a09",
   "metadata": {},
   "outputs": [],
   "source": [
    "data=pd.read_csv(\"DimOwner.csv\")"
   ]
  },
  {
   "cell_type": "code",
   "execution_count": null,
   "id": "655c0b7a",
   "metadata": {},
   "outputs": [],
   "source": [
    "for i, row in data.iterrows():\n",
    "    owner_id = row[0]\n",
    "    owner_income = row[1]\n",
    "    owner_name = row[2]\n",
    "    mail = row[3]\n",
    "    \n",
    "    \n",
    "    sql = \"INSERT INTO DimOwner(owner_id, owner_income, owner_name, mail) VALUES (%s, %s, %s, %s)\"\n",
    "    values = (owner_id, owner_income, owner_name, mail)\n",
    "    cursor_warehouse.execute(sql, values)\n",
    "\n",
    "\n",
    "conn_warehouse.commit()"
   ]
  },
  {
   "cell_type": "code",
   "execution_count": null,
   "id": "569fc4c2",
   "metadata": {},
   "outputs": [],
   "source": [
    "data=pd.read_csv(\"DimAddress.csv\")"
   ]
  },
  {
   "cell_type": "code",
   "execution_count": null,
   "id": "09d4fc72",
   "metadata": {},
   "outputs": [],
   "source": [
    "for i, row in data.iterrows():\n",
    "    latitude = row[0]\n",
    "    longitude = row[1]\n",
    "    state = row[2]\n",
    "    city = row[3]\n",
    "    country = row[4]\n",
    "    postal_code = row[5]\n",
    "    add_id = row[6]\n",
    "    \n",
    "    \n",
    "    sql = \"INSERT INTO DimAddress(latitude, longitude, state, city, country, postal_code, add_id) VALUES (%s, %s, %s, %s, %s, %s, %s)\"\n",
    "    values = (latitude, longitude, state, city, country, postal_code, add_id)\n",
    "    cursor_warehouse.execute(sql, values)\n",
    "conn_warehouse.commit()"
   ]
  },
  {
   "cell_type": "code",
   "execution_count": null,
   "id": "ea036db2",
   "metadata": {},
   "outputs": [],
   "source": [
    "data=pd.read_csv(\"DimLoan.csv\")"
   ]
  },
  {
   "cell_type": "code",
   "execution_count": null,
   "id": "e0cb4c54",
   "metadata": {},
   "outputs": [],
   "source": [
    "for i, row in data.iterrows():\n",
    "    loan_id = row[0]\n",
    "    loan_amount = row[1]\n",
    "    month = row[2]\n",
    "    year = row[3]\n",
    "    day = row[4]\n",
    "    \n",
    "    \n",
    "    sql = \"INSERT INTO DimLoan(loan_id, loan_amount, month, year, day) VALUES (%s, %s, %s, %s, %s)\"\n",
    "    values = (loan_id, loan_amount, month, year, day)\n",
    "    cursor_warehouse.execute(sql, values)\n",
    "\n",
    "\n",
    "conn_warehouse.commit()"
   ]
  },
  {
   "cell_type": "code",
   "execution_count": null,
   "id": "4738298e",
   "metadata": {},
   "outputs": [],
   "source": [
    "data=pd.read_csv(\"DimOceanProximity.csv\")"
   ]
  },
  {
   "cell_type": "code",
   "execution_count": null,
   "id": "859ca4fa",
   "metadata": {},
   "outputs": [],
   "source": [
    "for i, row in data.iterrows():\n",
    "    proximity_id = row[0]\n",
    "    ocean_proximity_value = row[1]\n",
    "    \n",
    "    \n",
    "    sql = \"INSERT INTO DimOceanProximity(proximity_id, ocean_proximity_value) VALUES (%s, %s)\"\n",
    "    values = (proximity_id, ocean_proximity_value)\n",
    "    cursor_warehouse.execute(sql, values)\n",
    "\n",
    "\n",
    "conn_warehouse.commit()"
   ]
  },
  {
   "cell_type": "code",
   "execution_count": null,
   "id": "f9ddd4f1",
   "metadata": {},
   "outputs": [],
   "source": [
    "data=pd.read_csv(\"DimHousing.csv\")"
   ]
  },
  {
   "cell_type": "code",
   "execution_count": null,
   "id": "fa48a1cd",
   "metadata": {},
   "outputs": [],
   "source": [
    "for i, row in data.iterrows():\n",
    "    housing_id = row[0]\n",
    "    housing_median_age = row[1]\n",
    "    total_rooms = row[2]\n",
    "    total_bedrooms = row[3]\n",
    "    population = row[4]\n",
    "    median_house_value = row[5]\n",
    "    households = row[6]\n",
    "    \n",
    "    \n",
    "    sql = \"INSERT INTO DimHousing(housing_id, housing_median_age, total_rooms, total_bedrooms, population, median_house_value, households) VALUES (%s, %s, %s, %s, %s, %s, %s)\"\n",
    "    values = (housing_id, housing_median_age, total_rooms, total_bedrooms, population, median_house_value, households)\n",
    "    cursor_warehouse.execute(sql, values)\n",
    "    \n",
    "conn_warehouse.commit()"
   ]
  },
  {
   "cell_type": "code",
   "execution_count": null,
   "id": "d8b51bd9",
   "metadata": {},
   "outputs": [],
   "source": [
    "data=pd.read_csv(\"LoanSanction.csv\")"
   ]
  },
  {
   "cell_type": "code",
   "execution_count": null,
   "id": "197a95a1",
   "metadata": {},
   "outputs": [],
   "source": [
    "for i, row in data.iterrows():\n",
    "    sanction = row[0]\n",
    "    owner_id = row[1]\n",
    "    loan_id = row[2]\n",
    "    \n",
    "    \n",
    "    sql = \"INSERT INTO owns(sanction, owner_id, loan_id) VALUES (%s, %s, %s)\"\n",
    "    values = (sanction, owner_id, loan_id)\n",
    "    cursor_warehouse.execute(sql, values)\n",
    "\n",
    "\n",
    "conn_warehouse.commit()"
   ]
  },
  {
   "cell_type": "code",
   "execution_count": null,
   "id": "8bd07f6c",
   "metadata": {},
   "outputs": [],
   "source": [
    "data=pd.read_csv(\"HouseOwnership.csv\")"
   ]
  },
  {
   "cell_type": "code",
   "execution_count": null,
   "id": "401fd524",
   "metadata": {},
   "outputs": [],
   "source": [
    "for i, row in data.iterrows():\n",
    "    proximity_id = row[0]\n",
    "    housing_id = row[1]\n",
    "    owner_id = row[2]\n",
    "    add_id = row[3]\n",
    "    \n",
    "    \n",
    "    sql = \"INSERT INTO HouseOwnership(proximity_id, housing_id, owner_id, add_id) VALUES (%s, %s, %s, %s)\"\n",
    "    values = (proximity_id, housing_id, owner_id, add_id)\n",
    "    cursor_warehouse.execute(sql, values)\n",
    "\n",
    "\n",
    "conn_warehouse.commit()"
   ]
  }
 ],
 "metadata": {
  "kernelspec": {
   "display_name": "Python 3 (ipykernel)",
   "language": "python",
   "name": "python3"
  },
  "language_info": {
   "codemirror_mode": {
    "name": "ipython",
    "version": 3
   },
   "file_extension": ".py",
   "mimetype": "text/x-python",
   "name": "python",
   "nbconvert_exporter": "python",
   "pygments_lexer": "ipython3",
   "version": "3.9.13"
  }
 },
 "nbformat": 4,
 "nbformat_minor": 5
}
